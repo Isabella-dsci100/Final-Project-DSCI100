{
 "cells": [
  {
   "cell_type": "markdown",
   "id": "14577dce-fb96-4295-b1d1-c686dd0952dd",
   "metadata": {},
   "source": [
    "# DSCI100 FINAL PROJECT"
   ]
  },
  {
   "cell_type": "markdown",
   "id": "a893cf9c-3d72-418c-9be9-56f0b53b9458",
   "metadata": {},
   "source": [
    "# Introduction\n",
    "Name: Isabella Lin"
   ]
  },
  {
   "cell_type": "markdown",
   "id": "fd5455cc-24c0-4ff8-9536-f497b3a6e025",
   "metadata": {},
   "source": [
    "**Background:**\n",
    "- Minecraft, released in 2011 by the Swedish developer Mojang Studios, is a sandbox game that has become iconic among young audiences. As of 2025, it ranks as the third most popular video game worldwide (Wikipedia contributors, 2025).\n",
    "\n",
    "- This study utilizes data collected by a research group in the UBC Computer Science department, led by Frank Wood. The team operated a dedicated Minecraft server and recorded detailed information on player activity as users interacted within the game environment. The dataset includes variables related to player skill levels, demographics, and gameplay sessions.\n",
    "\n",
    "  \n",
    "**Questions:**\n",
    "- Broad Question: What player characteristics and behaviours are most predictive of subscribing to a game-related newsletter, and how do these features differ between various player types?\n",
    "- Specific question: Can a player's age and hours played predict whether they will subscribe to the game-related newsletter?\n",
    "\n"
   ]
  },
  {
   "cell_type": "markdown",
   "id": "af3b019a-0240-4561-ab38-046e9ca008c2",
   "metadata": {},
   "source": [
    "# Data Description of players.csv "
   ]
  },
  {
   "cell_type": "markdown",
   "id": "4370d784-8797-414f-8eee-fb356bb7825e",
   "metadata": {},
   "source": [
    "The datafile I used for answering the question was the `players.csv` which had a list of data of all unique players. This dataset contains the necessary variables to answer the question.\n",
    "\n",
    "- Number of variables: 7\n",
    "- Number of observations: 195\n",
    "\n",
    "\n",
    "**ISSUES:**\n",
    "\n",
    "- The `Age` variable is skewed toward younger players, with most ages clustered around 20. This may indicate a potential bias in the dataset.\n",
    "- The `played_hours` variable contains many entries with zero hours and very small values. Converting this variable from hours to minutes could provide more meaningful insights in future analyses.\n",
    "- There are numerous outliers in the `played_hours` data.\n",
    "- Session counts are imbalanced: some players have participated in many sessions, while others have very few or none."
   ]
  },
  {
   "cell_type": "markdown",
   "id": "5ec974b9-68a6-4b84-b7d5-f1a2c0177036",
   "metadata": {},
   "source": [
    "**Summary Table of `players.csv`**\n",
    "\n",
    "\n",
    "| variable          | type      | meaning                                                                                                                        | # of missing observations | summary statistics (if applicable)                                             |\n",
    "|-------------------|-----------|--------------------------------------------------------------------------------------------------------------------------------|--------------------------|--------------------------------------------------------------------------------|\n",
    "| experience        | character | The level of experience of the player (Beginner (least experienced), Amateur, Regular, Veteran, Pro (most experienced))         | 0                        | N/A                                                                            |\n",
    "| subscribe         | logical   | Whether subscribed to a game newsletter or not (True, or False)                                                                | 0                        | N/A                                                                            |\n",
    "| hashedEmail       | character | Private personal Email information                                                                                              | 0                        | N/A                                                                            |\n",
    "| played_hours      | double    | The number of hours played by the player (hours)                                                                               | 0                        | Max = 223.1, Min = 0, Mean = 5.845918, Standard Deviation = 28.35734           |\n",
    "| name              | character | The player's name                                                                                                              | 0                        | N/A                                                                            |\n",
    "| gender            | character | The player's gender (male, female, non-binary, agender, two-spirited, prefer not to say, other)                                | 0                        | N/A                                                                            |\n",
    "| age               | double    | The player's age (years)                                                                                                       | 2                        | Max = 50, Min = 8, Mean = 20.52062, Median = 19, Mode = 17, SD = 6.174667      |"
   ]
  },
  {
   "cell_type": "markdown",
   "id": "2c08250b-372b-4ed6-9edc-0ccd76a713d2",
   "metadata": {},
   "source": [
    "# Pre-Processing Data and Exploratory Visualization"
   ]
  },
  {
   "cell_type": "code",
   "execution_count": null,
   "id": "364eabac-3848-4aca-97c1-0db6efacc705",
   "metadata": {},
   "outputs": [],
   "source": [
    "#1 load the relevant R packages:\n",
    "library(tidyverse)\n",
    "library(tidymodels)\n",
    "library(repr)\n",
    "library(themis)\n",
    "library(cowplot)"
   ]
  },
  {
   "cell_type": "code",
   "execution_count": null,
   "id": "9fbd21e8-827a-45d5-8ec3-eea7d3ce9fb4",
   "metadata": {},
   "outputs": [],
   "source": [
    "#2 loads data\n",
    "minecraft_full<- read_csv(\"https://raw.githubusercontent.com/Isabella-dsci100/Final-Project-DSCI100/refs/heads/main/players.csv\")\n",
    "head(minecraft_full)"
   ]
  },
  {
   "cell_type": "code",
   "execution_count": null,
   "id": "307a668a-38aa-45c6-b885-be3e6e35bc88",
   "metadata": {},
   "outputs": [],
   "source": [
    "#3 wrangles and cleans the data to the format necessary for the planned analysis\n",
    "minecraft<- minecraft_full|>\n",
    "                   filter(!is.na(Age))|>\n",
    "                   mutate(subscribe = as.factor(subscribe))\n",
    "\n",
    "head(minecraft)"
   ]
  },
  {
   "cell_type": "code",
   "execution_count": null,
   "id": "efb31bd0-6c63-43b8-b8ce-d0b0e384b564",
   "metadata": {},
   "outputs": [],
   "source": [
    "#4 Summary statistics (mean values for each numerical variables)\n",
    "players_average <- minecraft |>\n",
    "                   summarize(min_played_hours = min(played_hours),\n",
    "                             max_played_hours = max(played_hours),\n",
    "                             average_played_hours = mean(played_hours),\n",
    "                             min_age = min(Age),\n",
    "                             max_age = max(Age),\n",
    "                             median_age = median(Age),\n",
    "                             mode_age = names(which.max(table(minecraft[[7]]))),\n",
    "                             average_age = mean(Age))\n",
    "players_average"
   ]
  },
  {
   "cell_type": "markdown",
   "id": "5ebb936d-b3bd-4838-92df-40d395b573b4",
   "metadata": {},
   "source": [
    "**Statistics Interpretation**\n",
    "- The maximum value for `played_hours` (223.1) is much higher than the average value (5.90), suggesting the presence of outliers in playtime.\n",
    "- The mode of `age` is 17, likely because the Minecraft server automatically assigns 17 as the default age for each player. This default setting may have influenced the mode.\n",
    "- The average age is about 20, which is reasonable since most research participants are university students."
   ]
  },
  {
   "cell_type": "code",
   "execution_count": null,
   "id": "c3cac97d-ea66-42d0-9652-746a0f90b8e2",
   "metadata": {},
   "outputs": [],
   "source": [
    "#5 splitting into training and testing datasets\n",
    "set.seed(1)\n",
    "players_split <- initial_split(minecraft, prop = 0.75, strata = subscribe)\n",
    "\n",
    "players_training <- training(players_split)\n",
    "players_testing <- testing(players_split)"
   ]
  },
  {
   "cell_type": "code",
   "execution_count": null,
   "id": "d33509aa-2fac-4dea-9339-cab334c7d9df",
   "metadata": {},
   "outputs": [],
   "source": [
    "#6 create a visualization of the dataset that is relevant for exploratory data analysis related to the planned analysis\n",
    "# finding relationships predictor and variables \n",
    "#ie. Age+ Hours players as predictors and subscription status as variable\n",
    "options(repr.plot.width = 8, repr.plot.height = 8)\n",
    "Age_boxplot <- ggplot(players_training, aes(x = subscribe, y = Age, fill = subscribe)) +\n",
    "               geom_boxplot() +\n",
    "               labs(x= \"Subscription Status\", y= \"Age of Player\", fill = \"Subscription\\nStatus\", title = \"Figure 1: Age vs. Subscription Status\")+\n",
    "               theme(text = element_text(size = 15))\n",
    "Age_boxplot\n",
    "\n",
    "options(repr.plot.width = 8, repr.plot.height = 8)\n",
    "played_hours_boxplot <- ggplot(players_training, aes(x = subscribe, y = played_hours, fill = subscribe)) +\n",
    "                        geom_boxplot() +\n",
    "                        scale_y_log10(labels=label_comma())+\n",
    "                        labs(x = \"Subscription Status\", y = \"Game Played Hours\", fill = \"Subscription\\nStatus\", title = \"Figure 2: Played Hours vs. Subscription Status\")+\n",
    "                        theme(text = element_text(size = 15))\n",
    "played_hours_boxplot"
   ]
  },
  {
   "cell_type": "markdown",
   "id": "9a65085d-537f-4754-b3c5-2993d36912e7",
   "metadata": {},
   "source": [
    "**Plot Descriptions:**\n",
    "\n",
    "Figure 1.\n",
    "- This pllot indicates that players who subscribe to game-related newsletters are generally younger, with a median age close to 17, while non-subscribers have a higher median age of about 22. Both groups display a similar range of age variation. Notably, there are four distinct outliers in the non-subscriber group with much higher ages. This pattern suggests that younger players are more inclined to subscribe to game-related newsletters.\n",
    "\n",
    "Figure 2.\n",
    "- This graph suggests a potential association between played hours and subscription status. The subscribed group exhibits a higher median number of played hours compared to the unsubscribed group. Additionally, the subscribed group displays greater variability in played hours, including a notably high outlier."
   ]
  },
  {
   "cell_type": "markdown",
   "id": "e4f99384-36c6-4c6e-9e86-d14a5f52ef82",
   "metadata": {},
   "source": [
    "# Methods and Plan"
   ]
  },
  {
   "cell_type": "markdown",
   "id": "c187e6af-5b70-4176-b073-def0750bc665",
   "metadata": {},
   "source": [
    "***Method= KNN Classifcation***\n",
    "\n",
    "**Why Choose This Method?**\n",
    "\n",
    "Classification is appropriate for this predictive task because it involves using the variables `played_hours` and `Age` to predict the category `subscribe` for new samples. The K-Nearest Neighbors (KNN) algorithm is well-suited here since it does not require strict assumptions about the data distribution or shape. Instead, it classifies new samples based on their proximity to nearby data points.\n",
    "\n",
    "**Model Application**\n",
    "\n",
    "Model comparison and selection will be conducted through cross-validation. The `initial_split()` function is used to partition the dataset into 75% training and 25% testing sets, stratified by `subscribe` to maintain class balance. This ensures the testing data remains unseen during model training.\n",
    "\n",
    "Cross-validation, typically with 5- or 10-folds, will assess the model’s performance, balancing accuracy and computational cost. Tuning the model to find the best K value will help maximize classification accuracy on new observations.\n",
    "\n",
    "**Potential Limitations**\n",
    "\n",
    "- KNN is sensitive to feature scaling. If `played_hours` and `Age` have vastly different ranges, Euclidean distance calculations may be biased toward the variable with the larger scale, leading to inaccurate neighbor selection and predictions.\n",
    "- Class imbalance can affect KNN performance. If there are significantly more subscribed than unsubscribed cases, the model may overclassify new samples as subscribed, reducing prediction accuracy.\n"
   ]
  },
  {
   "cell_type": "markdown",
   "id": "479e1623-27ff-4f1b-be76-02aead6399ae",
   "metadata": {},
   "source": [
    "# Data Analysis"
   ]
  },
  {
   "cell_type": "code",
   "execution_count": null,
   "id": "3a96db96-7ff6-414c-849a-28dc961c970c",
   "metadata": {},
   "outputs": [],
   "source": [
    "# 6. Preparing the recipe using only the training data. The data is standardized and upsampled to resolve data imbalance issues. \n",
    "players_recipe<- recipe(subscribe~Age+played_hours, data=players_training)|>\n",
    "step_scale(all_predictors())|>\n",
    "step_center(all_predictors()) |>\n",
    "step_upsample(subscribe, over_ratio = 1)"
   ]
  },
  {
   "cell_type": "code",
   "execution_count": null,
   "id": "d94b860b-a68b-462e-bcf3-b3fe692c1657",
   "metadata": {},
   "outputs": [],
   "source": [
    "# 7. a) Cross-validation and Parameter (K) Value Selection\n",
    "players_vfold<- vfold_cv(players_training, v=5, strata=subscribe)\n",
    "players_spec_tune<- nearest_neighbor(weight_func=\"rectangular\", neighbors=tune())|>\n",
    "set_engine(\"kknn\")|>\n",
    "set_mode(\"classification\")\n",
    "\n",
    "k_vals<- tibble(neighbors=seq(from=1, to=100, by=1))\n",
    "\n",
    "player_tune_results<- workflow()|>\n",
    "add_recipe(players_recipe)|>\n",
    "add_model(players_spec_tune)|>\n",
    "tune_grid(resamples=players_vfold, grid=k_vals)|>\n",
    "collect_metrics()\n",
    "\n",
    "accuracy<- player_tune_results|>\n",
    "filter(.metric==\"accuracy\")\n",
    "     "
   ]
  },
  {
   "cell_type": "markdown",
   "id": "da538980-1629-4740-a414-b3aae4d4b388",
   "metadata": {},
   "source": [
    "# Discussion"
   ]
  },
  {
   "cell_type": "code",
   "execution_count": null,
   "id": "46fe4c6a-7730-4fcd-a47c-add6adafea1c",
   "metadata": {},
   "outputs": [],
   "source": []
  },
  {
   "cell_type": "markdown",
   "id": "778b54fd-7fab-4a2b-9dff-2de043abbaf4",
   "metadata": {},
   "source": [
    "# References"
   ]
  }
 ],
 "metadata": {
  "kernelspec": {
   "display_name": "R",
   "language": "R",
   "name": "ir"
  },
  "language_info": {
   "codemirror_mode": "r",
   "file_extension": ".r",
   "mimetype": "text/x-r-source",
   "name": "R",
   "pygments_lexer": "r",
   "version": "4.3.3"
  }
 },
 "nbformat": 4,
 "nbformat_minor": 5
}
